{
 "cells": [
  {
   "cell_type": "markdown",
   "metadata": {},
   "source": [
    "## Basic Challenges"
   ]
  },
  {
   "cell_type": "code",
   "execution_count": 7,
   "metadata": {},
   "outputs": [
    {
     "name": "stdout",
     "output_type": "stream",
     "text": [
      "Hello Kaveri\n"
     ]
    }
   ],
   "source": [
    "# 001 \n",
    "# Ask for the user’s first name and display the output message Hello [First Name] . \n",
    "    \n",
    "A=\"Hello\"\n",
    "B=\"Kaveri\"\n",
    "print(A,B)"
   ]
  },
  {
   "cell_type": "code",
   "execution_count": 8,
   "metadata": {},
   "outputs": [
    {
     "name": "stdout",
     "output_type": "stream",
     "text": [
      "Hello Kaveri Pujari\n"
     ]
    }
   ],
   "source": [
    "#002 \n",
    "#Ask for the user’s first name and then ask for their surname and display the output message Hello [First Name] [Surname]. \n",
    "\n",
    "A=\"Hello\"\n",
    "B= \"Kaveri Pujari\"\n",
    "print(A,B)"
   ]
  },
  {
   "cell_type": "markdown",
   "metadata": {},
   "source": [
    "#003 \n",
    "#Write code that will display the joke “What do you call a bear with no teeth?” \n",
    "#and on the next line display the answer “A gummy bear!” Try to create it using only one line of code.\n",
    "\n",
    "A=\"What do you call a bear with no teeth?\\nA gummy bear!\"\n",
    "print(A)"
   ]
  },
  {
   "cell_type": "code",
   "execution_count": 18,
   "metadata": {},
   "outputs": [
    {
     "name": "stdout",
     "output_type": "stream",
     "text": [
      "The Total is 30\n"
     ]
    }
   ],
   "source": [
    "#004 \n",
    "#Ask the user to enter two numbers. Add them together and display the answer as The total is [answer]. \n",
    "\n",
    "Num1=10\n",
    "Num2=20\n",
    "Answer=(Num1 + Num2)\n",
    "print(\"The Total is\", Answer)"
   ]
  },
  {
   "cell_type": "code",
   "execution_count": 19,
   "metadata": {},
   "outputs": [
    {
     "name": "stdout",
     "output_type": "stream",
     "text": [
      "The Total is 900\n"
     ]
    }
   ],
   "source": [
    "#005 \n",
    "#Ask the user to enter three numbers. Add together the first two numbers and then multiply this total by the third. \n",
    "#Display the answer as The answer is [answer]. \n",
    "\n",
    "Num1=10\n",
    "Num2=20\n",
    "Num3=30\n",
    "Answer=(Num1 + Num2)*Num3\n",
    "print(\"The Total is\", Answer)\n",
    "\n",
    "\n"
   ]
  },
  {
   "cell_type": "code",
   "execution_count": 21,
   "metadata": {},
   "outputs": [
    {
     "name": "stdin",
     "output_type": "stream",
     "text": [
      "Enter the Slices you have Started: 8\n",
      "Enter The How many Slices you have eaten: 2\n",
      "Enter The How many Slices have Left: 6\n"
     ]
    }
   ],
   "source": [
    "#006 \n",
    "#Ask how many slices of pizza the user started with and ask how many slices they have eaten. \n",
    "#Work out how many slices they have left and display the answer in a userfriendly format\n",
    "\n",
    "textValue=input(\"Enter the Slices you have Started:\")\n",
    "numValue=int(input(\"Enter The How many Slices you have eaten:\"))\n",
    "numValue=int(input(\"Enter The How many Slices have Left:\"))"
   ]
  },
  {
   "cell_type": "code",
   "execution_count": 37,
   "metadata": {},
   "outputs": [
    {
     "name": "stdin",
     "output_type": "stream",
     "text": [
      "Enter your name: Kaveri\n",
      "Enter your Age: 26\n"
     ]
    },
    {
     "name": "stdout",
     "output_type": "stream",
     "text": [
      "Kaveri Next birthady you will be 27\n"
     ]
    }
   ],
   "source": [
    "#007 \n",
    "#Ask the user for their name and their age. \n",
    "#Add 1 to their age and display the output [Name] next birthday you will be [new age]. \n",
    "\n",
    "Name=input(\"Enter your name:\")\n",
    "Age=int(input(\"Enter your Age:\"))\n",
    "NewAge= Age+1\n",
    "print(Name, \"Next birthady you will be\", NewAge)\n"
   ]
  },
  {
   "cell_type": "code",
   "execution_count": 40,
   "metadata": {},
   "outputs": [
    {
     "name": "stdin",
     "output_type": "stream",
     "text": [
      "Total price of Bill is: 1000\n",
      "Total how many Diners there are: 50\n"
     ]
    },
    {
     "name": "stdout",
     "output_type": "stream",
     "text": [
      "Each Person must pay 20.0\n"
     ]
    }
   ],
   "source": [
    "#008 \n",
    "#Ask for the total price of the bill, then ask how many diners there are. \n",
    "#Divide the total bill by the number of diners and show how much each person must pay. \n",
    "\n",
    "TotalBill=int(input(\"Total price of Bill is:\"))\n",
    "TotalDiners=int(input(\"Total how many Diners there are:\"))\n",
    "TotalPay=TotalBill/TotalDiners\n",
    "print(\"Each Person must pay\",TotalPay)\n"
   ]
  },
  {
   "cell_type": "code",
   "execution_count": 45,
   "metadata": {},
   "outputs": [
    {
     "name": "stdin",
     "output_type": "stream",
     "text": [
      "Enter the number of days:  365\n"
     ]
    },
    {
     "name": "stdout",
     "output_type": "stream",
     "text": [
      "in 365 days there are...\n",
      "8760 Hours\n",
      "525600 Minuts\n",
      "31536000 Seconds\n"
     ]
    }
   ],
   "source": [
    "#009 \n",
    "#Write a program that will ask for a number of days and \n",
    "#then will show how many hours, minutes and seconds are in that number of days. \n",
    "\n",
    "\n",
    "Days=int(input(\"Enter the number of days: \"))\n",
    "Hours = Days*24\n",
    "Minuts = Hours*60\n",
    "Seconds = Minuts*60\n",
    "print(\"in\", Days,\"days there are...\")\n",
    "print(Hours, \"Hours\")\n",
    "print(Minuts, \"Minuts\")\n",
    "print(Seconds, \"Seconds\")\n",
    "\n"
   ]
  },
  {
   "cell_type": "code",
   "execution_count": 46,
   "metadata": {},
   "outputs": [
    {
     "name": "stdin",
     "output_type": "stream",
     "text": [
      "enter thr weight in KG:  25\n"
     ]
    },
    {
     "name": "stdout",
     "output_type": "stream",
     "text": [
      "Total pounds is 55100\n"
     ]
    }
   ],
   "source": [
    "#010 \n",
    "#There are 2,204 pounds in a kilogram. Ask the user to enter a weight in kilograms and convert it to pounds. \n",
    "\n",
    "Kilo= int(input(\"enter thr weight in KG: \" ))\n",
    "pounds=Kilo*2204\n",
    "print(\"Total pounds is\" , pounds)\n",
    "\n"
   ]
  },
  {
   "cell_type": "code",
   "execution_count": 50,
   "metadata": {},
   "outputs": [
    {
     "name": "stdin",
     "output_type": "stream",
     "text": [
      "Enter the large number: 1000\n",
      "Eter the small nmber:  30\n"
     ]
    },
    {
     "name": "stdout",
     "output_type": "stream",
     "text": [
      "small number goes to 30 into Larger number 1000 Answer\n"
     ]
    }
   ],
   "source": [
    "#011 \n",
    "#Task the user to enter a number over 100 and then enter a number under 10 and \n",
    "#tell them how many times the smaller number goes into the larger number in a user-friendly format. \n",
    "\n",
    "Large=int(input(\"Enter the large number:\"))\n",
    "Small=int(input(\"Eter the small nmber: \"))\n",
    "Answer= Large/Small\n",
    "print(\"small number goes to\", Small, \"into Larger number\", Large, Answer)\n"
   ]
  },
  {
   "cell_type": "code",
   "execution_count": null,
   "metadata": {},
   "outputs": [],
   "source": []
  }
 ],
 "metadata": {
  "kernelspec": {
   "display_name": "Python 3",
   "language": "python",
   "name": "python3"
  },
  "language_info": {
   "codemirror_mode": {
    "name": "ipython",
    "version": 3
   },
   "file_extension": ".py",
   "mimetype": "text/x-python",
   "name": "python",
   "nbconvert_exporter": "python",
   "pygments_lexer": "ipython3",
   "version": "3.8.3"
  }
 },
 "nbformat": 4,
 "nbformat_minor": 4
}
